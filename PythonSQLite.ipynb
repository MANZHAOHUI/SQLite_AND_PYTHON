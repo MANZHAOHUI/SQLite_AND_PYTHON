{
  "nbformat": 4,
  "nbformat_minor": 0,
  "metadata": {
    "kernelspec": {
      "display_name": "Python 3",
      "language": "python",
      "name": "python3"
    },
    "language_info": {
      "codemirror_mode": {
        "name": "ipython",
        "version": 3
      },
      "file_extension": ".py",
      "mimetype": "text/x-python",
      "name": "python",
      "nbconvert_exporter": "python",
      "pygments_lexer": "ipython3",
      "version": "3.8.3"
    },
    "colab": {
      "name": "Copy of PythonSQLite.ipynb",
      "private_outputs": true,
      "provenance": [],
      "collapsed_sections": [],
      "include_colab_link": true
    }
  },
  "cells": [
    {
      "cell_type": "markdown",
      "metadata": {
        "id": "view-in-github",
        "colab_type": "text"
      },
      "source": [
        "<a href=\"https://colab.research.google.com/github/MANZHAOHUI/SQLite_AND_PYTHON/blob/main/PythonSQLite.ipynb\" target=\"_parent\"><img src=\"https://colab.research.google.com/assets/colab-badge.svg\" alt=\"Open In Colab\"/></a>"
      ]
    },
    {
      "cell_type": "markdown",
      "metadata": {
        "id": "sQ7v-AtBPq2y"
      },
      "source": [
        "# <center>Using SQLlite with Python</center>\n",
        "<img src='https://drive.google.com/uc?id=1ML8fWLRmp3xuZBt-CeO4XfckO1jfPy5I'>"
      ]
    },
    {
      "cell_type": "code",
      "metadata": {
        "id": "1wsBdZvEnut1"
      },
      "source": [
        "!python3 --version"
      ],
      "execution_count": null,
      "outputs": []
    },
    {
      "cell_type": "markdown",
      "metadata": {
        "id": "ecUKTHAGPq2z"
      },
      "source": [
        "## Documentation at: https://docs.python.org/3/library/sqlite3.html"
      ]
    },
    {
      "cell_type": "markdown",
      "metadata": {
        "id": "47wM1mfRPq20"
      },
      "source": [
        "### https://www.dataquest.io/blog/python-pandas-databases"
      ]
    },
    {
      "cell_type": "code",
      "metadata": {
        "id": "9Jjhm6tcPq20"
      },
      "source": [
        "import sqlite3\n",
        "\n",
        "print(sqlite3.version)\n",
        "print(sqlite3.sqlite_version)"
      ],
      "execution_count": null,
      "outputs": []
    },
    {
      "cell_type": "markdown",
      "metadata": {
        "id": "z_W5ruoOPq21"
      },
      "source": [
        "### We just want an in memory database..."
      ]
    },
    {
      "cell_type": "markdown",
      "metadata": {
        "id": "cs3rLIhfPq21"
      },
      "source": [
        "## 1) Connect to the database.  In Memory in this case."
      ]
    },
    {
      "cell_type": "code",
      "metadata": {
        "id": "kfxW__Y_Pq21"
      },
      "source": [
        "#dbconn = sqlite3.connect(':memory:')  # for a temporary database"
      ],
      "execution_count": null,
      "outputs": []
    },
    {
      "cell_type": "code",
      "metadata": {
        "id": "zxmctormPq21"
      },
      "source": [
        "dbconn = sqlite3.connect('mydw') # permanent database\n",
        "print (dbconn)"
      ],
      "execution_count": null,
      "outputs": []
    },
    {
      "cell_type": "markdown",
      "metadata": {
        "id": "n5zPnN8cPq22"
      },
      "source": [
        "## 2) Create a cursor to use to execute SQL statements."
      ]
    },
    {
      "cell_type": "code",
      "metadata": {
        "id": "xFGvlYVTPq22"
      },
      "source": [
        "cursor = dbconn.cursor()"
      ],
      "execution_count": null,
      "outputs": []
    },
    {
      "cell_type": "code",
      "metadata": {
        "id": "wEnZ4HH9Pq22"
      },
      "source": [
        "cursor"
      ],
      "execution_count": null,
      "outputs": []
    },
    {
      "cell_type": "markdown",
      "metadata": {
        "id": "ikIE-dd0Pq22"
      },
      "source": [
        "## 3) Use the cursor to execute SQL statements to the database.\n",
        "Note:  We always execute a commit after the statement."
      ]
    },
    {
      "cell_type": "code",
      "metadata": {
        "id": "CHM3D9cxPq23"
      },
      "source": [
        "cursor.execute('''CREATE TABLE IF NOT EXISTS books(id INTEGER PRIMARY KEY, \n",
        "                   title TEXT, author TEXT, price TEXT, year TEXT)\n",
        "''')\n",
        "dbconn.commit()"
      ],
      "execution_count": null,
      "outputs": []
    },
    {
      "cell_type": "code",
      "metadata": {
        "id": "mrUR-qsePq23"
      },
      "source": [
        "cursor.execute('''INSERT INTO books values (1, 'Pro PowerShell', 'Bryan Cafferky', 35.00, 2015)\n",
        "''')\n",
        "cursor.execute('''INSERT INTO books values (2, \"'Hithiker's Guide to the Galaxy\", 'Douglas Adams', 12.00, 199)\n",
        "''')\n",
        "dbconn.commit()"
      ],
      "execution_count": null,
      "outputs": []
    },
    {
      "cell_type": "code",
      "metadata": {
        "id": "H-hMTo1OPq23"
      },
      "source": [
        "lstbooks = cursor.execute('''select * from books;''').fetchall()\n",
        "print(lstbooks)"
      ],
      "execution_count": null,
      "outputs": []
    },
    {
      "cell_type": "markdown",
      "metadata": {
        "id": "WEG5s9zEPq23"
      },
      "source": [
        "## Not very easy to read the output, what type is returned?"
      ]
    },
    {
      "cell_type": "code",
      "metadata": {
        "id": "5mpBhA3bPq24"
      },
      "source": [
        "type(lstbooks)"
      ],
      "execution_count": null,
      "outputs": []
    },
    {
      "cell_type": "markdown",
      "metadata": {
        "id": "Zlc2EIcbPq24"
      },
      "source": [
        "## Dataframes are much easier to work with so let's use a dataframe instead."
      ]
    },
    {
      "cell_type": "code",
      "metadata": {
        "id": "lntlVziNPq24"
      },
      "source": [
        "import sqlite3\n",
        "import pandas as pd\n",
        "\n",
        "# convert query results to a dataframe\n",
        "dfbook = pd.read_sql_query(\"SELECT * FROM books\", dbconn)\n",
        "dfbook.head()"
      ],
      "execution_count": null,
      "outputs": []
    },
    {
      "cell_type": "code",
      "metadata": {
        "id": "q9ApDr6fPq24"
      },
      "source": [
        "type(dfbook)"
      ],
      "execution_count": null,
      "outputs": []
    },
    {
      "cell_type": "markdown",
      "metadata": {
        "id": "jNJL3TLEPq24"
      },
      "source": [
        "## We can drop the table since we are done."
      ]
    },
    {
      "cell_type": "code",
      "metadata": {
        "id": "WM30PGNaPq24"
      },
      "source": [
        "cursor = dbconn.cursor()\n",
        "cursor.execute('''DROP TABLE books''')\n",
        "dbconn.commit()"
      ],
      "execution_count": null,
      "outputs": []
    },
    {
      "cell_type": "code",
      "metadata": {
        "id": "atU2pfo-Pq25"
      },
      "source": [
        "booksdf = cursor.execute('''select * from books;''').fetchall()"
      ],
      "execution_count": null,
      "outputs": []
    },
    {
      "cell_type": "markdown",
      "metadata": {
        "id": "YWR8EHScPq25"
      },
      "source": [
        "# Save a dataframe to SQLite..."
      ]
    },
    {
      "cell_type": "code",
      "metadata": {
        "id": "UKJkeAYsPq25"
      },
      "source": [
        "custDF = pd.read_csv('https://github.com/MANZHAOHUI/SQLite_AND_PYTHON/blob/main/DimCustomer.csv?raw=true')  \n",
        "custDF.head()"
      ],
      "execution_count": null,
      "outputs": []
    },
    {
      "cell_type": "code",
      "metadata": {
        "id": "7qiqSmsZPq25"
      },
      "source": [
        "custDF.columns "
      ],
      "execution_count": null,
      "outputs": []
    },
    {
      "cell_type": "code",
      "metadata": {
        "id": "fZKOwUP2Pq25"
      },
      "source": [
        "custDF.dtypes.head(3)"
      ],
      "execution_count": null,
      "outputs": []
    },
    {
      "cell_type": "code",
      "metadata": {
        "id": "rJYJF6v2Pq25"
      },
      "source": [
        "# if_exists{‘fail’, ‘replace’, ‘append’}, default ‘fail’\n",
        "\n",
        "custDF.to_sql('dimcustomer', con=dbconn, if_exists='replace')"
      ],
      "execution_count": null,
      "outputs": []
    },
    {
      "cell_type": "code",
      "metadata": {
        "id": "Ef-ensUNPq26"
      },
      "source": [
        "pd.read_sql_query('select * from dimcustomer limit 2',con=dbconn)"
      ],
      "execution_count": null,
      "outputs": []
    },
    {
      "cell_type": "code",
      "metadata": {
        "id": "AcGPU26uPq26"
      },
      "source": [
        "cursor.close()\n",
        "dbconn.close()"
      ],
      "execution_count": null,
      "outputs": []
    },
    {
      "cell_type": "markdown",
      "metadata": {
        "id": "cgBm5LYiPq26"
      },
      "source": [
        "# Chinook, SQLite's Answer to AdventureWorks..."
      ]
    },
    {
      "cell_type": "code",
      "metadata": {
        "id": "ArMjW4oVPq26"
      },
      "source": [
        "ls"
      ],
      "execution_count": null,
      "outputs": []
    },
    {
      "cell_type": "markdown",
      "metadata": {
        "id": "KQyElmeLPq26"
      },
      "source": [
        "## Sample Database\n",
        "<img src='https://drive.google.com/uc?id=1TG-Kl2nxsj1qR7g80Xj9_f7E79tyMFIH'>"
      ]
    },
    {
      "cell_type": "code",
      "metadata": {
        "id": "kWY9Mk2Dsfji"
      },
      "source": [
        "from google.colab import drive\n",
        "drive.mount('/content/drive')"
      ],
      "execution_count": null,
      "outputs": []
    },
    {
      "cell_type": "code",
      "metadata": {
        "id": "02UHbxk5Pq26"
      },
      "source": [
        "conn = sqlite3.connect(\"/content/drive/My Drive/Colab Notebooks/chinook.db\")\n",
        "cur = conn.cursor()\n",
        "cur"
      ],
      "execution_count": null,
      "outputs": []
    },
    {
      "cell_type": "code",
      "metadata": {
        "id": "Abr1ScSBYKzq"
      },
      "source": [
        "albums = cur.execute(\"select * from albums order by title limit 3;\").fetchall()\n",
        "print(albums)"
      ],
      "execution_count": null,
      "outputs": []
    },
    {
      "cell_type": "code",
      "metadata": {
        "id": "SmVaJUKUPq27"
      },
      "source": [
        "type(albums)"
      ],
      "execution_count": null,
      "outputs": []
    },
    {
      "cell_type": "code",
      "metadata": {
        "id": "R-zf4dw-Pq27"
      },
      "source": [
        "cur.execute(\"\"\"select * from albums order by title limit 3;\"\"\").fetchone()"
      ],
      "execution_count": null,
      "outputs": []
    },
    {
      "cell_type": "code",
      "metadata": {
        "id": "zjiKFyBBPq27"
      },
      "source": [
        "albumdata = cur.execute(\"\"\"select * from albums order by title limit 3;\"\"\").fetchmany(5)\n",
        "albumdata"
      ],
      "execution_count": null,
      "outputs": []
    },
    {
      "cell_type": "code",
      "metadata": {
        "id": "y4CW_HZxPq27"
      },
      "source": [
        "# Convert the list returned to a dataframe..\n",
        "\n",
        "from pandas import DataFrame\n",
        "\n",
        "DataFrame(albumdata)"
      ],
      "execution_count": null,
      "outputs": []
    },
    {
      "cell_type": "code",
      "metadata": {
        "id": "BiNC6DMRPq27"
      },
      "source": [
        "import sqlite3\n",
        "import pandas as pd\n",
        "\n",
        "# return query results as a dataframe\n",
        "\n",
        "dfalbum = pd.read_sql_query(\"SELECT * FROM albums\", conn)\n",
        "dfalbum.head()"
      ],
      "execution_count": null,
      "outputs": []
    },
    {
      "cell_type": "markdown",
      "metadata": {
        "id": "-TUC9qZ1Pq27"
      },
      "source": [
        "## SQLite has a database catalog"
      ]
    },
    {
      "cell_type": "code",
      "metadata": {
        "id": "K4hqIr0PPq28"
      },
      "source": [
        "pd.read_sql_query(\"select * from sqlite_master where type = 'table';\", conn)"
      ],
      "execution_count": null,
      "outputs": []
    },
    {
      "cell_type": "code",
      "metadata": {
        "id": "UwahAPbEPq28"
      },
      "source": [
        "pd.read_sql_query(\"select name from sqlite_master where type = 'index';\", conn)"
      ],
      "execution_count": null,
      "outputs": []
    },
    {
      "cell_type": "code",
      "metadata": {
        "id": "AQ6E-dLmPq28"
      },
      "source": [
        "dftablist = pd.read_sql_query(\"select name from sqlite_master where type = 'table';\", conn)\n",
        "dftablist"
      ],
      "execution_count": null,
      "outputs": []
    },
    {
      "cell_type": "code",
      "metadata": {
        "id": "_q9pqmuZPq28"
      },
      "source": [
        "# Get table schema...\n",
        "\n",
        "pd.read_sql_query(\"\"\"\n",
        "PRAGMA table_info('albums');\n",
        "\"\"\", conn)"
      ],
      "execution_count": null,
      "outputs": []
    },
    {
      "cell_type": "markdown",
      "metadata": {
        "id": "y6y-iEhPPq28"
      },
      "source": [
        "## Suppressing the default index..."
      ]
    },
    {
      "cell_type": "code",
      "metadata": {
        "id": "3sQKTaKqPq28"
      },
      "source": [
        "qry = '''\n",
        "select substr(a.name, 1, 10) as Artist,\n",
        "       substr(title,1, 15) as Album,\n",
        "       t.name as Song\n",
        "from albums r\n",
        "join artists a\n",
        "on (r.artistid = a.artistid)\n",
        "join tracks t \n",
        "on (r.albumid = t.albumid)\n",
        "order by a.name, title\n",
        "limit 15;\n",
        "'''\n",
        "\n",
        "pd.read_sql_query(qry, conn, index_col = 'Artist')  # index_col replaces the default dataframe index"
      ],
      "execution_count": null,
      "outputs": []
    },
    {
      "cell_type": "markdown",
      "metadata": {
        "id": "CZp7pw_nPq28"
      },
      "source": [
        "## Let's create a new table from a query "
      ]
    },
    {
      "cell_type": "code",
      "metadata": {
        "id": "Zk_QUnPwPq29"
      },
      "source": [
        "# Note the create table statment before the select query...\n",
        "\n",
        "qry = '''\n",
        "create table if not exists top15 as\n",
        "select substr(a.name, 1, 10) as Artist,\n",
        "       substr(title,1, 15) as Album,\n",
        "       t.name as Song\n",
        "from albums r\n",
        "join artists a\n",
        "on (r.artistid = a.artistid)\n",
        "join tracks t \n",
        "on (r.albumid = t.albumid)\n",
        "order by a.name, title\n",
        "limit 15;\n",
        "'''\n",
        "\n",
        "albums = cur.execute(qry)"
      ],
      "execution_count": null,
      "outputs": []
    },
    {
      "cell_type": "code",
      "metadata": {
        "id": "o8pqBIpxPq29"
      },
      "source": [
        "pd.read_sql_query('select * from top15', conn)"
      ],
      "execution_count": null,
      "outputs": []
    },
    {
      "cell_type": "markdown",
      "metadata": {
        "id": "IvRB2mEJPq29"
      },
      "source": [
        "## Let's create a new table from a dataframe"
      ]
    },
    {
      "cell_type": "code",
      "metadata": {
        "id": "Nfigj2ocPq29"
      },
      "source": [
        "best_acdcDF = pd.read_sql_query('select * from top15 where artist = \"AC/DC\"', conn)"
      ],
      "execution_count": null,
      "outputs": []
    },
    {
      "cell_type": "markdown",
      "metadata": {
        "id": "4ZaY2YD3Pq29"
      },
      "source": [
        "### The works with full scale DBMSs"
      ]
    },
    {
      "cell_type": "code",
      "metadata": {
        "id": "jo_ZDJtRPq29"
      },
      "source": [
        "best_acdcDF.to_sql('best_acdc', con=conn, if_exists='append')"
      ],
      "execution_count": null,
      "outputs": []
    },
    {
      "cell_type": "code",
      "metadata": {
        "id": "Zc-hLTGoPq2-"
      },
      "source": [
        " pd.read_sql_query('select * from best_acdc', conn)"
      ],
      "execution_count": null,
      "outputs": []
    },
    {
      "cell_type": "markdown",
      "metadata": {
        "id": "7s4VuaOOPq2-"
      },
      "source": [
        "# Let's close the connection. "
      ]
    },
    {
      "cell_type": "code",
      "metadata": {
        "id": "7wKA90vRPq2-"
      },
      "source": [
        "cur.close()\n",
        "conn.close()"
      ],
      "execution_count": null,
      "outputs": []
    }
  ]
}